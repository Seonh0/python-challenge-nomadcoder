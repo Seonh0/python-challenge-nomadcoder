{
 "cells": [
  {
   "cell_type": "code",
   "execution_count": 1,
   "id": "29743087",
   "metadata": {},
   "outputs": [
    {
     "name": "stdout",
     "output_type": "stream",
     "text": [
      "you are 19\n",
      "you are new to this!\n"
     ]
    }
   ],
   "source": [
    "def age_check(age):\n",
    "    print(f\"you are {age}\")\n",
    "    if age < 18:\n",
    "        print(\"you cant drink\")\n",
    "    elif age == 18 or age == 19:\n",
    "        print(\"you are new to this!\")\n",
    "    elif age > 20 and age < 25:\n",
    "        print(\"you are still kind of young\")\n",
    "    else:\n",
    "        print(\"enjoy your drink\")\n",
    "\n",
    "\n",
    "age_check(19)\n"
   ]
  },
  {
   "cell_type": "code",
   "execution_count": 3,
   "id": "fecf14d8",
   "metadata": {},
   "outputs": [
    {
     "data": {
      "text/plain": [
       "str"
      ]
     },
     "execution_count": 3,
     "metadata": {},
     "output_type": "execute_result"
    }
   ],
   "source": [
    "a = \"\"\n",
    "type(a)"
   ]
  },
  {
   "cell_type": "code",
   "execution_count": null,
   "id": "c2ac0c34",
   "metadata": {},
   "outputs": [],
   "source": []
  }
 ],
 "metadata": {
  "kernelspec": {
   "display_name": "Python 3",
   "language": "python",
   "name": "python3"
  },
  "language_info": {
   "codemirror_mode": {
    "name": "ipython",
    "version": 3
   },
   "file_extension": ".py",
   "mimetype": "text/x-python",
   "name": "python",
   "nbconvert_exporter": "python",
   "pygments_lexer": "ipython3",
   "version": "3.8.5"
  }
 },
 "nbformat": 4,
 "nbformat_minor": 5
}
