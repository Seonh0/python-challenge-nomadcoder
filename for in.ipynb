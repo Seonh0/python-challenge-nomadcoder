{
 "cells": [
  {
   "cell_type": "code",
   "execution_count": 4,
   "id": "fc10f472",
   "metadata": {},
   "outputs": [
    {
     "name": "stdout",
     "output_type": "stream",
     "text": [
      "Mon\n",
      "Tue\n"
     ]
    },
    {
     "name": "stderr",
     "output_type": "stream",
     "text": [
      "<>:4: SyntaxWarning: \"is\" with a literal. Did you mean \"==\"?\n",
      "<>:4: SyntaxWarning: \"is\" with a literal. Did you mean \"==\"?\n",
      "<ipython-input-4-74376e242032>:4: SyntaxWarning: \"is\" with a literal. Did you mean \"==\"?\n",
      "  if x is \"Wed\":\n"
     ]
    }
   ],
   "source": [
    "days = (\"Mon\",\"Tue\",\"Wed\",\"Thu\",\"Fri\")\n",
    "\n",
    "for x in days:\n",
    "    if x is \"Wed\":\n",
    "        break\n",
    "    else:\n",
    "        print(x)"
   ]
  },
  {
   "cell_type": "code",
   "execution_count": 5,
   "id": "845fd6a3",
   "metadata": {},
   "outputs": [
    {
     "name": "stdout",
     "output_type": "stream",
     "text": [
      "p\n",
      "l\n",
      "u\n",
      "t\n",
      "o\n"
     ]
    }
   ],
   "source": [
    "for letter in \"pluto\":\n",
    "    print(letter)"
   ]
  },
  {
   "cell_type": "code",
   "execution_count": null,
   "id": "31dc46a8",
   "metadata": {},
   "outputs": [],
   "source": []
  }
 ],
 "metadata": {
  "kernelspec": {
   "display_name": "Python 3",
   "language": "python",
   "name": "python3"
  },
  "language_info": {
   "codemirror_mode": {
    "name": "ipython",
    "version": 3
   },
   "file_extension": ".py",
   "mimetype": "text/x-python",
   "name": "python",
   "nbconvert_exporter": "python",
   "pygments_lexer": "ipython3",
   "version": "3.8.5"
  }
 },
 "nbformat": 4,
 "nbformat_minor": 5
}
