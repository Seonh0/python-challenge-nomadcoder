{
 "cells": [
  {
   "cell_type": "markdown",
   "id": "92bfe737",
   "metadata": {},
   "source": [
    "## Built in Functions (내장함수)"
   ]
  },
  {
   "cell_type": "code",
   "execution_count": 1,
   "id": "5452e54a",
   "metadata": {},
   "outputs": [
    {
     "name": "stdout",
     "output_type": "stream",
     "text": [
      "16\n"
     ]
    }
   ],
   "source": [
    "print(len('awfawfdawfawdfwa'))"
   ]
  },
  {
   "cell_type": "code",
   "execution_count": 2,
   "id": "05ef231f",
   "metadata": {},
   "outputs": [
    {
     "data": {
      "text/plain": [
       "True"
      ]
     },
     "execution_count": 2,
     "metadata": {},
     "output_type": "execute_result"
    }
   ],
   "source": [
    "bool(1)"
   ]
  },
  {
   "cell_type": "code",
   "execution_count": 3,
   "id": "f4d3828d",
   "metadata": {},
   "outputs": [
    {
     "data": {
      "text/plain": [
       "1"
      ]
     },
     "execution_count": 3,
     "metadata": {},
     "output_type": "execute_result"
    }
   ],
   "source": [
    "int(True)"
   ]
  },
  {
   "cell_type": "code",
   "execution_count": 4,
   "id": "551e50d6",
   "metadata": {},
   "outputs": [
    {
     "name": "stdout",
     "output_type": "stream",
     "text": [
      "<class 'str'>\n",
      "26\n",
      "<class 'int'>\n"
     ]
    }
   ],
   "source": [
    "age = \"26\"\n",
    "print(type(age))\n",
    "n_age = int(age)\n",
    "print(n_age)\n",
    "print(type(n_age))"
   ]
  },
  {
   "cell_type": "markdown",
   "id": "9f8f5c8a",
   "metadata": {},
   "source": [
    "## Create Function"
   ]
  },
  {
   "cell_type": "code",
   "execution_count": 13,
   "id": "a82541d5",
   "metadata": {},
   "outputs": [
    {
     "name": "stdout",
     "output_type": "stream",
     "text": [
      "3\n",
      "4\n"
     ]
    }
   ],
   "source": [
    "def plus(a,b):\n",
    "    print(a+b)\n",
    "          \n",
    "def minus(a,b=0):\n",
    "    print(a-b)\n",
    "\n",
    "plus(1,2)\n",
    "minus(4)"
   ]
  },
  {
   "cell_type": "code",
   "execution_count": 14,
   "id": "476f0d87",
   "metadata": {},
   "outputs": [
    {
     "name": "stdout",
     "output_type": "stream",
     "text": [
      "5\n",
      "None 5\n"
     ]
    }
   ],
   "source": [
    "def p_plus(a, b):\n",
    "    print(a + b)\n",
    "    \n",
    "def r_plus(a, b):\n",
    "    return a + b\n",
    "\n",
    "p_result = p_plus(2, 3)\n",
    "r_result = r_plus(2, 3)\n",
    "\n",
    "print(p_result, r_result)"
   ]
  },
  {
   "cell_type": "markdown",
   "id": "c48c8983",
   "metadata": {},
   "source": [
    "## Keyworded Arguments"
   ]
  },
  {
   "cell_type": "code",
   "execution_count": 15,
   "id": "2e8658e0",
   "metadata": {},
   "outputs": [
    {
     "name": "stdout",
     "output_type": "stream",
     "text": [
      "31\n"
     ]
    }
   ],
   "source": [
    "def plus(a,b):\n",
    "    return a + b\n",
    "\n",
    "result = plus(b=30,a=1)\n",
    "print(result)"
   ]
  },
  {
   "cell_type": "code",
   "execution_count": 17,
   "id": "1a77d3de",
   "metadata": {},
   "outputs": [
    {
     "data": {
      "text/plain": [
       "'Hello pluto you are 26 years old'"
      ]
     },
     "execution_count": 17,
     "metadata": {},
     "output_type": "execute_result"
    }
   ],
   "source": [
    "def say_hello(name, age):\n",
    "    return f\"Hello {name} you are {age} years old\"\n",
    "# \"Hello\" + name + \"you are\" + age + \"years old\"\n",
    "#f : format\n",
    "say_hello(\"pluto\",\"26\")"
   ]
  },
  {
   "cell_type": "code",
   "execution_count": null,
   "id": "16a6cc55",
   "metadata": {},
   "outputs": [],
   "source": []
  }
 ],
 "metadata": {
  "kernelspec": {
   "display_name": "Python 3",
   "language": "python",
   "name": "python3"
  },
  "language_info": {
   "codemirror_mode": {
    "name": "ipython",
    "version": 3
   },
   "file_extension": ".py",
   "mimetype": "text/x-python",
   "name": "python",
   "nbconvert_exporter": "python",
   "pygments_lexer": "ipython3",
   "version": "3.8.5"
  }
 },
 "nbformat": 4,
 "nbformat_minor": 5
}
