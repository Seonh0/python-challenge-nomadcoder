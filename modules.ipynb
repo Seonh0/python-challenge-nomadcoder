{
 "cells": [
  {
   "cell_type": "code",
   "execution_count": 10,
   "id": "4377a891",
   "metadata": {},
   "outputs": [
    {
     "name": "stdout",
     "output_type": "stream",
     "text": [
      "2\n",
      "1.2\n"
     ]
    }
   ],
   "source": [
    "from math import ceil, fsum, fabs\n",
    "\n",
    "print(math.ceil(1.2)) #ceil : 반올림\n",
    "print(math.fabs(-1.2)) #절댓값"
   ]
  },
  {
   "cell_type": "code",
   "execution_count": null,
   "id": "21a97425",
   "metadata": {},
   "outputs": [],
   "source": []
  },
  {
   "cell_type": "code",
   "execution_count": null,
   "id": "0768dde8",
   "metadata": {},
   "outputs": [],
   "source": []
  }
 ],
 "metadata": {
  "kernelspec": {
   "display_name": "Python 3",
   "language": "python",
   "name": "python3"
  },
  "language_info": {
   "codemirror_mode": {
    "name": "ipython",
    "version": 3
   },
   "file_extension": ".py",
   "mimetype": "text/x-python",
   "name": "python",
   "nbconvert_exporter": "python",
   "pygments_lexer": "ipython3",
   "version": "3.8.5"
  }
 },
 "nbformat": 4,
 "nbformat_minor": 5
}
