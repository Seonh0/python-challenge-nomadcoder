{
 "cells": [
  {
   "cell_type": "code",
   "execution_count": 2,
   "id": "b80977f6",
   "metadata": {},
   "outputs": [
    {
     "name": "stdout",
     "output_type": "stream",
     "text": [
      "Welcome to IsItDown.py!\n",
      "Please write a URL or URLs you want to check. (separated by comma)\n",
      "google.com\n",
      "http://google.com is up!\n",
      "Do you want to start over? y/n y\n",
      "Welcome to IsItDown.py!\n",
      "Please write a URL or URLs you want to check. (separated by comma)\n",
      "naver.com\n",
      "http://naver.com is up!\n",
      "Do you want to start over? y/n instagram.com\n",
      "That's not a valid answer\n",
      "Do you want to start over? y/n awfwf\n",
      "That's not a valid answer\n",
      "Do you want to start over? y/n y\n",
      "Welcome to IsItDown.py!\n",
      "Please write a URL or URLs you want to check. (separated by comma)\n",
      "naver.com\n",
      "http://naver.com is up!\n",
      "Do you want to start over? y/n y\n",
      "Welcome to IsItDown.py!\n",
      "Please write a URL or URLs you want to check. (separated by comma)\n",
      "op.gg\n",
      "http://op.gg is down!\n",
      "Do you want to start over? y/n n\n",
      "k. bye!\n"
     ]
    }
   ],
   "source": [
    "import os\n",
    "import requests\n",
    "\n",
    "def restart():\n",
    "    answer = str(input(\"Do you want to start over? y/n \")).lower()\n",
    "    if answer == \"y\" or answer ==\"n\":\n",
    "        if answer == \"n\":\n",
    "            print(\"k. bye!\")\n",
    "            return\n",
    "        elif answer == \"y\":\n",
    "            main()\n",
    "    else:\n",
    "        print(\"That's not a valid answer\")\n",
    "        restart()\n",
    "\n",
    "\n",
    "def main():\n",
    "    os.system('clear')\n",
    "    print(\"Welcome to IsItDown.py!\\nPlease write a URL or URLs you want to check. (separated by comma)\")\n",
    "    urls = str(input()).lower().split(\",\")\n",
    "    for url in urls:\n",
    "        url = url.strip()\n",
    "        if \".\" not in url:\n",
    "            print(url, \"is not a valid URL.\")\n",
    "        else:\n",
    "            if \"http\" not in url:\n",
    "                url = f\"http://{url}\"\n",
    "                try:\n",
    "                    request = requests.get(url)\n",
    "                    if request.status_code == 200:\n",
    "                        print(url,\"is up!\")\n",
    "                    else:\n",
    "                        print(url, \"is down!\")\n",
    "                except:\n",
    "                    print(url, \"is down!\")\n",
    "    restart()\n",
    "\n",
    "\n",
    "main()"
   ]
  },
  {
   "cell_type": "code",
   "execution_count": null,
   "id": "cc6f43b0",
   "metadata": {},
   "outputs": [],
   "source": []
  }
 ],
 "metadata": {
  "kernelspec": {
   "display_name": "Python 3",
   "language": "python",
   "name": "python3"
  },
  "language_info": {
   "codemirror_mode": {
    "name": "ipython",
    "version": 3
   },
   "file_extension": ".py",
   "mimetype": "text/x-python",
   "name": "python",
   "nbconvert_exporter": "python",
   "pygments_lexer": "ipython3",
   "version": "3.8.5"
  }
 },
 "nbformat": 4,
 "nbformat_minor": 5
}
