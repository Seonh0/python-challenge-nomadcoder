{
 "cells": [
  {
   "cell_type": "markdown",
   "id": "8de625a6",
   "metadata": {},
   "source": [
    "## Tuple (not mutable)"
   ]
  },
  {
   "cell_type": "code",
   "execution_count": 1,
   "id": "9d4883a2",
   "metadata": {},
   "outputs": [
    {
     "name": "stdout",
     "output_type": "stream",
     "text": [
      "('Mon', 'Tus', 'Wed', 'Thur', 'Fri')\n",
      "Wed\n"
     ]
    }
   ],
   "source": [
    "days = (\"Mon\",\"Tus\",\"Wed\",\"Thur\",\"Fri\")\n",
    "print(days)\n",
    "print(days[2])"
   ]
  },
  {
   "cell_type": "markdown",
   "id": "14e3f7a9",
   "metadata": {},
   "source": [
    "## Dictionary"
   ]
  },
  {
   "cell_type": "code",
   "execution_count": 2,
   "id": "1b725c4a",
   "metadata": {},
   "outputs": [
    {
     "name": "stdout",
     "output_type": "stream",
     "text": [
      "{'name': 'pluto', 'age': 26, 'korean': True, 'fav_food': ['chicken', 'kimchi']}\n"
     ]
    }
   ],
   "source": [
    "pluto = {\n",
    "    \"name\": \"pluto\",\n",
    "    \"age\" : 26,\n",
    "    \"korean\": True,\n",
    "    \"fav_food\": ['chicken','kimchi']\n",
    "}\n",
    "\n",
    "print(pluto)"
   ]
  },
  {
   "cell_type": "code",
   "execution_count": 3,
   "id": "f78ef1bb",
   "metadata": {},
   "outputs": [],
   "source": [
    "pluto[\"handsome\"] = True"
   ]
  },
  {
   "cell_type": "code",
   "execution_count": 5,
   "id": "3a25341f",
   "metadata": {},
   "outputs": [
    {
     "name": "stdout",
     "output_type": "stream",
     "text": [
      "{'name': 'pluto', 'age': 26, 'korean': True, 'fav_food': ['chicken', 'kimchi'], 'handsome': True}\n"
     ]
    }
   ],
   "source": [
    "print(pluto)"
   ]
  },
  {
   "cell_type": "code",
   "execution_count": null,
   "id": "66db0ab8",
   "metadata": {},
   "outputs": [],
   "source": []
  }
 ],
 "metadata": {
  "kernelspec": {
   "display_name": "Python 3",
   "language": "python",
   "name": "python3"
  },
  "language_info": {
   "codemirror_mode": {
    "name": "ipython",
    "version": 3
   },
   "file_extension": ".py",
   "mimetype": "text/x-python",
   "name": "python",
   "nbconvert_exporter": "python",
   "pygments_lexer": "ipython3",
   "version": "3.8.5"
  }
 },
 "nbformat": 4,
 "nbformat_minor": 5
}
