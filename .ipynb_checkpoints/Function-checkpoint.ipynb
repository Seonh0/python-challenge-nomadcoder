{
 "cells": [
  {
   "cell_type": "markdown",
   "id": "28c6e275",
   "metadata": {},
   "source": [
    "## Built in Functions (내장함수)"
   ]
  },
  {
   "cell_type": "code",
   "execution_count": 1,
   "id": "4a502eaf",
   "metadata": {},
   "outputs": [
    {
     "name": "stdout",
     "output_type": "stream",
     "text": [
      "16\n"
     ]
    }
   ],
   "source": [
    "print(len('awfawfdawfawdfwa'))"
   ]
  },
  {
   "cell_type": "code",
   "execution_count": 2,
   "id": "c0f8892d",
   "metadata": {},
   "outputs": [
    {
     "data": {
      "text/plain": [
       "True"
      ]
     },
     "execution_count": 2,
     "metadata": {},
     "output_type": "execute_result"
    }
   ],
   "source": [
    "bool(1)"
   ]
  },
  {
   "cell_type": "code",
   "execution_count": 3,
   "id": "e3841c6e",
   "metadata": {},
   "outputs": [
    {
     "data": {
      "text/plain": [
       "1"
      ]
     },
     "execution_count": 3,
     "metadata": {},
     "output_type": "execute_result"
    }
   ],
   "source": [
    "int(True)"
   ]
  },
  {
   "cell_type": "code",
   "execution_count": 4,
   "id": "5d84ddba",
   "metadata": {},
   "outputs": [
    {
     "name": "stdout",
     "output_type": "stream",
     "text": [
      "<class 'str'>\n",
      "26\n",
      "<class 'int'>\n"
     ]
    }
   ],
   "source": [
    "age = \"26\"\n",
    "print(type(age))\n",
    "n_age = int(age)\n",
    "print(n_age)\n",
    "print(type(n_age))"
   ]
  },
  {
   "cell_type": "markdown",
   "id": "f7732bf3",
   "metadata": {},
   "source": [
    "## Create Function"
   ]
  },
  {
   "cell_type": "code",
   "execution_count": 13,
   "id": "a81b4c38",
   "metadata": {},
   "outputs": [
    {
     "name": "stdout",
     "output_type": "stream",
     "text": [
      "3\n",
      "4\n"
     ]
    }
   ],
   "source": [
    "def plus(a,b):\n",
    "    print(a+b)\n",
    "          \n",
    "def minus(a,b=0):\n",
    "    print(a-b)\n",
    "\n",
    "plus(1,2)\n",
    "minus(4)"
   ]
  },
  {
   "cell_type": "code",
   "execution_count": 14,
   "id": "f99a0fcd",
   "metadata": {},
   "outputs": [
    {
     "name": "stdout",
     "output_type": "stream",
     "text": [
      "5\n",
      "None 5\n"
     ]
    }
   ],
   "source": [
    "def p_plus(a, b):\n",
    "    print(a + b)\n",
    "    \n",
    "def r_plus(a, b):\n",
    "    return a + b\n",
    "\n",
    "p_result = p_plus(2, 3)\n",
    "r_result = r_plus(2, 3)\n",
    "\n",
    "print(p_result, r_result)"
   ]
  },
  {
   "cell_type": "code",
   "execution_count": null,
   "id": "9f9b63b0",
   "metadata": {},
   "outputs": [],
   "source": []
  }
 ],
 "metadata": {
  "kernelspec": {
   "display_name": "Python 3",
   "language": "python",
   "name": "python3"
  },
  "language_info": {
   "codemirror_mode": {
    "name": "ipython",
    "version": 3
   },
   "file_extension": ".py",
   "mimetype": "text/x-python",
   "name": "python",
   "nbconvert_exporter": "python",
   "pygments_lexer": "ipython3",
   "version": "3.8.5"
  }
 },
 "nbformat": 4,
 "nbformat_minor": 5
}
