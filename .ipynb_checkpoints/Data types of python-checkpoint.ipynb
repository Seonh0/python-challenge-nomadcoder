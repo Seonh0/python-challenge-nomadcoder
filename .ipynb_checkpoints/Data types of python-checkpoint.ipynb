{
 "cells": [
  {
   "cell_type": "code",
   "execution_count": 3,
   "id": "924a6669",
   "metadata": {},
   "outputs": [
    {
     "name": "stdout",
     "output_type": "stream",
     "text": [
      "<class 'str'>\n",
      "<class 'int'>\n",
      "<class 'float'>\n",
      "<class 'bool'>\n",
      "<class 'NoneType'>\n"
     ]
    }
   ],
   "source": [
    "a_string = 'like this'\n",
    "a_number = 3\n",
    "a_float = 3.12\n",
    "a_boolean = False\n",
    "a_none = None\n",
    "# 변수명 : snake_case (python)\n",
    "\n",
    "print(type(a_string))\n",
    "print(type(a_number))\n",
    "print(type(a_float))\n",
    "print(type(a_boolean))\n",
    "print(type(a_none))"
   ]
  },
  {
   "cell_type": "code",
   "execution_count": null,
   "id": "4c4aa53b",
   "metadata": {},
   "outputs": [],
   "source": []
  }
 ],
 "metadata": {
  "kernelspec": {
   "display_name": "Python 3",
   "language": "python",
   "name": "python3"
  },
  "language_info": {
   "codemirror_mode": {
    "name": "ipython",
    "version": 3
   },
   "file_extension": ".py",
   "mimetype": "text/x-python",
   "name": "python",
   "nbconvert_exporter": "python",
   "pygments_lexer": "ipython3",
   "version": "3.8.5"
  }
 },
 "nbformat": 4,
 "nbformat_minor": 5
}
