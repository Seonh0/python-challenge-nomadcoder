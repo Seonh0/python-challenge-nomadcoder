{
 "cells": [
  {
   "cell_type": "markdown",
   "id": "345ec08a",
   "metadata": {},
   "source": [
    "## List (mutable)"
   ]
  },
  {
   "cell_type": "code",
   "execution_count": 5,
   "id": "c980846b",
   "metadata": {},
   "outputs": [
    {
     "name": "stdout",
     "output_type": "stream",
     "text": [
      "['Mon', 'Tus', 'Wed', 'Thur', 'Fri']\n"
     ]
    }
   ],
   "source": [
    "days = [\"Mon\",\"Tus\",\"Wed\",\"Thur\",\"Fri\"]\n",
    "print(days)"
   ]
  },
  {
   "cell_type": "code",
   "execution_count": 6,
   "id": "accc3bf3",
   "metadata": {},
   "outputs": [
    {
     "name": "stdout",
     "output_type": "stream",
     "text": [
      "True\n"
     ]
    }
   ],
   "source": [
    "print(\"Mon\" in days)"
   ]
  },
  {
   "cell_type": "code",
   "execution_count": 7,
   "id": "447ab3f7",
   "metadata": {},
   "outputs": [
    {
     "name": "stdout",
     "output_type": "stream",
     "text": [
      "Wed\n"
     ]
    }
   ],
   "source": [
    "print(days[2])"
   ]
  },
  {
   "cell_type": "code",
   "execution_count": 8,
   "id": "e0daf278",
   "metadata": {},
   "outputs": [
    {
     "data": {
      "text/plain": [
       "5"
      ]
     },
     "execution_count": 8,
     "metadata": {},
     "output_type": "execute_result"
    }
   ],
   "source": [
    "len(days)"
   ]
  },
  {
   "cell_type": "code",
   "execution_count": 9,
   "id": "1659b3e9",
   "metadata": {},
   "outputs": [
    {
     "name": "stdout",
     "output_type": "stream",
     "text": [
      "['Mon', 'Tus', 'Wed', 'Thur', 'Fri', 'Sat']\n"
     ]
    }
   ],
   "source": [
    "days.append(\"Sat\")\n",
    "print(days)"
   ]
  },
  {
   "cell_type": "code",
   "execution_count": 10,
   "id": "0c2d59b2",
   "metadata": {},
   "outputs": [
    {
     "name": "stdout",
     "output_type": "stream",
     "text": [
      "['Sat', 'Fri', 'Thur', 'Wed', 'Tus', 'Mon']\n"
     ]
    }
   ],
   "source": [
    "days.reverse()\n",
    "print(days)"
   ]
  },
  {
   "cell_type": "code",
   "execution_count": 1,
   "id": "7cae3df9",
   "metadata": {},
   "outputs": [
    {
     "ename": "NameError",
     "evalue": "name 'parseInt' is not defined",
     "output_type": "error",
     "traceback": [
      "\u001b[0;31m---------------------------------------------------------------------------\u001b[0m",
      "\u001b[0;31mNameError\u001b[0m                                 Traceback (most recent call last)",
      "\u001b[0;32m<ipython-input-1-9408a5c3ea49>\u001b[0m in \u001b[0;36m<module>\u001b[0;34m\u001b[0m\n\u001b[0;32m----> 1\u001b[0;31m \u001b[0mparseInt\u001b[0m\u001b[0;34m(\u001b[0m\u001b[0;34m\"hello\"\u001b[0m\u001b[0;34m)\u001b[0m\u001b[0;34m\u001b[0m\u001b[0;34m\u001b[0m\u001b[0m\n\u001b[0m",
      "\u001b[0;31mNameError\u001b[0m: name 'parseInt' is not defined"
     ]
    }
   ],
   "source": [
    "parseInt(\"hello\")"
   ]
  },
  {
   "cell_type": "code",
   "execution_count": null,
   "id": "b1f827eb",
   "metadata": {},
   "outputs": [],
   "source": []
  }
 ],
 "metadata": {
  "kernelspec": {
   "display_name": "Python 3",
   "language": "python",
   "name": "python3"
  },
  "language_info": {
   "codemirror_mode": {
    "name": "ipython",
    "version": 3
   },
   "file_extension": ".py",
   "mimetype": "text/x-python",
   "name": "python",
   "nbconvert_exporter": "python",
   "pygments_lexer": "ipython3",
   "version": "3.8.5"
  }
 },
 "nbformat": 4,
 "nbformat_minor": 5
}
